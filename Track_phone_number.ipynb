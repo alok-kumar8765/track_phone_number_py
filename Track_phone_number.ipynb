{
  "nbformat": 4,
  "nbformat_minor": 0,
  "metadata": {
    "colab": {
      "provenance": [],
      "authorship_tag": "ABX9TyOcMIIFcYWc7OREDCNJbKuZ",
      "include_colab_link": true
    },
    "kernelspec": {
      "name": "python3",
      "display_name": "Python 3"
    },
    "language_info": {
      "name": "python"
    }
  },
  "cells": [
    {
      "cell_type": "markdown",
      "metadata": {
        "id": "view-in-github",
        "colab_type": "text"
      },
      "source": [
        "<a href=\"https://colab.research.google.com/github/alok-techqware/track_phone_number_py/blob/main/Track_phone_number.ipynb\" target=\"_parent\"><img src=\"https://colab.research.google.com/assets/colab-badge.svg\" alt=\"Open In Colab\"/></a>"
      ]
    },
    {
      "cell_type": "markdown",
      "source": [
        "# **Project Prerequisites:**\n",
        "\n",
        "You have to install the following packages for this project :\n",
        "```\n",
        "pip install folium opencage phonenumbers\n",
        "```\n",
        "\n",
        "*   To know more about the phonenumbers package can read this documentation – https://pypi.org/project/phonenumbers/\n",
        "\n",
        "*   To We also need to get the API Key from the opencagedata.com\n",
        "*   All you need to do is signup and then go to the Geocoding API tab and copy the API Key and save it in notepad. [click here](https://opencagedata.com/dashboard#geocoding)\n",
        "\n",
        "\n",
        "\n"
      ],
      "metadata": {
        "id": "WQeLkqiBS39p"
      }
    },
    {
      "cell_type": "code",
      "execution_count": 1,
      "metadata": {
        "colab": {
          "base_uri": "https://localhost:8080/"
        },
        "id": "uWJSg5kDx1BK",
        "outputId": "10524236-cf74-44b2-bac4-aea2daf44801"
      },
      "outputs": [
        {
          "output_type": "stream",
          "name": "stdout",
          "text": [
            "Looking in indexes: https://pypi.org/simple, https://us-python.pkg.dev/colab-wheels/public/simple/\n",
            "Requirement already satisfied: folium in /usr/local/lib/python3.10/dist-packages (0.14.0)\n",
            "Collecting opencage\n",
            "  Downloading opencage-2.2.0-py3-none-any.whl (14 kB)\n",
            "Collecting phonenumbers\n",
            "  Downloading phonenumbers-8.13.14-py2.py3-none-any.whl (2.6 MB)\n",
            "\u001b[2K     \u001b[90m━━━━━━━━━━━━━━━━━━━━━━━━━━━━━━━━━━━━━━━━\u001b[0m \u001b[32m2.6/2.6 MB\u001b[0m \u001b[31m43.9 MB/s\u001b[0m eta \u001b[36m0:00:00\u001b[0m\n",
            "\u001b[?25hRequirement already satisfied: branca>=0.6.0 in /usr/local/lib/python3.10/dist-packages (from folium) (0.6.0)\n",
            "Requirement already satisfied: jinja2>=2.9 in /usr/local/lib/python3.10/dist-packages (from folium) (3.1.2)\n",
            "Requirement already satisfied: numpy in /usr/local/lib/python3.10/dist-packages (from folium) (1.22.4)\n",
            "Requirement already satisfied: requests in /usr/local/lib/python3.10/dist-packages (from folium) (2.27.1)\n",
            "Collecting backoff>=1.10.0 (from opencage)\n",
            "  Downloading backoff-2.2.1-py3-none-any.whl (15 kB)\n",
            "Requirement already satisfied: MarkupSafe>=2.0 in /usr/local/lib/python3.10/dist-packages (from jinja2>=2.9->folium) (2.1.2)\n",
            "Requirement already satisfied: urllib3<1.27,>=1.21.1 in /usr/local/lib/python3.10/dist-packages (from requests->folium) (1.26.15)\n",
            "Requirement already satisfied: certifi>=2017.4.17 in /usr/local/lib/python3.10/dist-packages (from requests->folium) (2022.12.7)\n",
            "Requirement already satisfied: charset-normalizer~=2.0.0 in /usr/local/lib/python3.10/dist-packages (from requests->folium) (2.0.12)\n",
            "Requirement already satisfied: idna<4,>=2.5 in /usr/local/lib/python3.10/dist-packages (from requests->folium) (3.4)\n",
            "Installing collected packages: phonenumbers, backoff, opencage\n",
            "Successfully installed backoff-2.2.1 opencage-2.2.0 phonenumbers-8.13.14\n"
          ]
        }
      ],
      "source": [
        "!pip install folium opencage phonenumbers\n"
      ]
    },
    {
      "cell_type": "code",
      "source": [
        "\n",
        "# track location with the map using the phone number\n",
        "import phonenumbers\n",
        "from phonenumbers import geocoder\n",
        "from phonenumbers import carrier\n",
        "\n",
        "import folium\n",
        "\n",
        "from opencage.geocoder import OpenCageGeocode\n",
        "\n",
        "# taking input the phonenumber along with the country code\n",
        "number = input(\"Enter the PhoneNumber with the country code : \")\n",
        "# Parsing the phonenumber string to convert it into phonenumber format\n",
        "phoneNumber = phonenumbers.parse(number)\n",
        "\n",
        "# Storing the API Key in the Key variable\n",
        "Key = \"API KEY\" #generate your api https://opencagedata.com/api\n",
        "\n",
        "# Using the geocoder module of phonenumbers to print the Location in console\n",
        "yourLocation = geocoder.description_for_number(phoneNumber,\"en\")\n",
        "print(\"location : \"+yourLocation)\n",
        "\n",
        "# Using the carrier module of phonenumbers to print the service provider name in console\n",
        "yourServiceProvider = carrier.name_for_number(phoneNumber,\"en\")\n",
        "print(\"service provider : \"+yourServiceProvider)\n",
        "\n",
        "# Using opencage to get the latitude and longitude of the location\n",
        "geocoder = OpenCageGeocode(Key)\n",
        "query = str(yourLocation)\n",
        "results = geocoder.geocode(query)\n",
        "\n",
        "# Assigning the latitude and longitude values to the lat and lng variables\n",
        "lat = results[0]['geometry']['lat']\n",
        "lng = results[0]['geometry']['lng']\n",
        "\n",
        "# Getting the map for the given latitude and longitude\n",
        "myMap = folium.Map(loction=[lat,lng],zoom_start = 9)\n",
        "\n",
        "# Adding a Marker on the map to show the location name\n",
        "folium.Marker([lat,lng],popup=yourLocation).add_to(myMap)\n",
        "\n",
        "# save map to html file to open it and see the actual location in map format\n",
        "myMap.save(\"Location.html\")"
      ],
      "metadata": {
        "id": "ZZNV_OnFyCrP"
      },
      "execution_count": null,
      "outputs": []
    }
  ]
}